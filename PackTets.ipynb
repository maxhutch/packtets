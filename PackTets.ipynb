{
 "cells": [
  {
   "cell_type": "code",
   "execution_count": 1,
   "metadata": {
    "collapsed": false
   },
   "outputs": [],
   "source": [
    "%matplotlib inline\n",
    "import numpy as np\n",
    "from numpy.random import uniform\n",
    "import igraph \n",
    "from time import time\n",
    "from numpy.linalg import norm\n",
    "import mpl_toolkits.mplot3d as a3\n",
    "import matplotlib.pyplot as plt"
   ]
  },
  {
   "cell_type": "code",
   "execution_count": 2,
   "metadata": {
    "collapsed": false
   },
   "outputs": [],
   "source": [
    "def sort_vertices(v, d):\n",
    "    if d[0] * d[1] < 0 and d[0] * d[2] < 0:\n",
    "        return v, d\n",
    "    if d[1] * d[0] < 0 and d[1] * d[2] < 0:\n",
    "        return [v[1], v[0], v[2]], [d[1], d[0], d[2]]\n",
    "    return [v[2], v[0], v[1]], [d[2], d[0], d[1]]\n",
    "\n",
    "def collision_line(u0, u1, v0, v1):\n",
    "    mu = (u1[1] - u0[1]) / (u1[0] - u0[0])\n",
    "    iu = u0[1] - mu * u0[0]\n",
    "    mv = (v1[1] - v0[1]) / (v1[0] - v0[0])\n",
    "    iv = v0[1] - mv * v0[0]\n",
    "    if abs(mu - mv) < 1.0e-6:\n",
    "        return abs(iu - iv) < 1.0e-6\n",
    "    x = (iu - iv) / (mv - mu)\n",
    "    if (x > min(u0[0], u1[0]) and \n",
    "        x < max(u0[0], u1[0]) and \n",
    "        x > min(v0[0], v1[0]) and \n",
    "        x < max(v0[0], v1[0]) ):\n",
    "        return True\n",
    "    return False\n",
    "\n",
    "def collision_face_coplanar(u, v):\n",
    "    for i,j in [(0,1), (0,2), (1,2)]:\n",
    "        for k,l in [(0,1), (0,2), (1,2)]:\n",
    "            if collision_line(u[i], u[j], v[k], v[l]):\n",
    "                return True\n",
    "    return False\n",
    "\n",
    "\n",
    "def collision_face(u, v):    \n",
    "    Nv = np.cross(v[1] - v[0], v[2]-v[0])\n",
    "    d2 = - np.dot(Nv, v[0])\n",
    "    du = np.array([np.dot(Nv, x) + d2 for x in u])\n",
    "    if np.all(du > 0) or np.all(du < 0):\n",
    "        return False\n",
    "    \n",
    "    Nu = np.cross(u[1] - u[0], u[2]-u[0])\n",
    "    d1 = - np.dot(Nu, u[0])\n",
    "    dv = np.array([np.dot(Nu, x) + d1 for x in v])\n",
    "    if np.all(dv > 0) or np.all(dv < 0):\n",
    "        return False\n",
    "    \n",
    "    if np.all(du == 0):\n",
    "        return collision_coplanar()\n",
    "    \n",
    "    D = np.cross(Nu, Nv)\n",
    "    u, du = sort_vertices(u, du)\n",
    "    v, dv = sort_vertices(v, dv)\n",
    "    \n",
    "    pu = [np.dot(D, x) for x in u]\n",
    "    pv = [np.dot(D, x) for x in v]\n",
    "    tu = [pu[i] + (pu[0] - pu[i])*du[i]/(du[i] - du[0]) for i in (1,2)]\n",
    "    tv = [pv[i] + (pv[0] - pv[i])*dv[i]/(dv[i] - dv[0]) for i in (1,2)]\n",
    "    \n",
    "    if (tu[1] - tv[0]) * (tu[1] - tv[1]) < 0:\n",
    "        return True\n",
    "    if (tu[0] - tv[0]) * (tu[0] - tv[1]) < 0:\n",
    "        return True\n",
    "    if (tv[1] - tu[0]) * (tv[1] - tu[1]) < 0:\n",
    "        return True\n",
    "    if (tv[0] - tu[0]) * (tv[0] - tu[1]) < 0:\n",
    "        return True\n",
    "    return False"
   ]
  },
  {
   "cell_type": "code",
   "execution_count": 3,
   "metadata": {
    "collapsed": false
   },
   "outputs": [],
   "source": [
    "class Tet():\n",
    "    radius = np.sqrt(3./8.)\n",
    "    inner_radius = np.sqrt(1./24.)\n",
    "    center_verts = [\n",
    "            np.array([ 1/2.,     0, -1./np.sqrt(8)]),\n",
    "            np.array([-1/2.,     0, -1./np.sqrt(8)]),\n",
    "            np.array([    0,  1/2.,  1./np.sqrt(8)]),\n",
    "            np.array([    0, -1/2.,  1./np.sqrt(8)])]\n",
    "    \n",
    "    def __init__(self, center, theta, phi, psi):\n",
    "        rotation = np.array([\n",
    "            [np.cos(phi), -np.cos(psi)*np.sin(phi), np.sin(phi)*np.sin(psi)],\n",
    "            [np.cos(theta)*np.sin(phi), np.cos(theta)*np.cos(phi)*np.cos(psi) - np.sin(theta)*np.sin(psi), -np.cos(psi)*np.sin(theta) - np.cos(theta)*np.cos(phi)*np.sin(psi)],\n",
    "            [np.sin(theta)*np.sin(phi), np.cos(theta)*np.sin(psi) + np.cos(phi)*np.cos(psi)*np.sin(theta), np.cos(theta)*np.cos(psi)-np.cos(phi)*np.sin(theta)*np.sin(psi)]\n",
    "            ])\n",
    "        self.center = np.array(center)\n",
    "        self.theta = theta\n",
    "        self.phi = phi\n",
    "        self.psi = psi\n",
    "        self.verts = [np.dot(rotation, x) + self.center for x in self.center_verts]\n",
    "        return\n",
    "    \n",
    "    def collision(self, other):\n",
    "        dist = np.sum(np.square(self.center - other.center))\n",
    "        if dist < np.square(2*self.inner_radius):\n",
    "            return True\n",
    "        if dist > np.square(2*self.radius):\n",
    "            return False\n",
    "        for i,j,k in [(0,1,2), (0,1,3), (0,2,3), (1,2,3)]:\n",
    "            for x,y,z in [(0,1,2), (0,1,3), (0,2,3), (1,2,3)]:\n",
    "                if collision_face([ self.verts[i],  self.verts[j],  self.verts[k]], \n",
    "                                  [other.verts[x], other.verts[y], other.verts[z]]):\n",
    "                    return True\n",
    "        return False\n",
    "    \n",
    "    def get_symetry_1d(self, v1):\n",
    "        res = []\n",
    "        if norm(v1) - np.dot(self.center, v1) / norm(v1) < 2*self.radius:\n",
    "            res.append(Tet(self.center - v1, self.theta, self.phi, self.psi))\n",
    "        if np.dot(self.center, v1) / norm(v1) < 2*self.radius:\n",
    "            res.append(Tet(self.center + v1, self.theta, self.phi, self.psi))    \n",
    "        return res\n",
    "    \n",
    "    def get_symetry(self, v1, v2, v3):\n",
    "        syms = [self,] + self.get_symetry_1d(v1)\n",
    "        for s in syms.copy():\n",
    "            syms += s.get_symetry_1d(v2)\n",
    "        for s in syms.copy():\n",
    "            syms += s.get_symetry_1d(v3)\n",
    "        return syms"
   ]
  },
  {
   "cell_type": "code",
   "execution_count": 4,
   "metadata": {
    "collapsed": false
   },
   "outputs": [
    {
     "data": {
      "text/plain": [
       "True"
      ]
     },
     "execution_count": 4,
     "metadata": {},
     "output_type": "execute_result"
    }
   ],
   "source": [
    "t1 = Tet((0.5,0,0), 0, 0, .00)\n",
    "t2 = Tet((0  ,0,0), 0, 0, .05)\n",
    "t1.collision(t2)"
   ]
  },
  {
   "cell_type": "code",
   "execution_count": 5,
   "metadata": {
    "collapsed": true
   },
   "outputs": [],
   "source": [
    "def greedy1(adj):\n",
    "    while np.sum(adj) > 0:\n",
    "        max_row = np.argmax(np.sum(adj, axis=1))\n",
    "        adj = np.delete(adj, max_row, 0)\n",
    "        adj = np.delete(adj, max_row, 1)\n",
    "    return adj.shape[0]\n",
    "\n",
    "def greedy2(adj):\n",
    "    while np.sum(adj) > 0:\n",
    "        min_row = np.argmin(np.sum(adj, axis=1))\n",
    "        to_remove = np.nonzero(adj[min_row,:])\n",
    "        adj = np.delete(adj, to_remove, 0)\n",
    "        adj = np.delete(adj, to_remove, 1)\n",
    "    return adj.shape[0]"
   ]
  },
  {
   "cell_type": "code",
   "execution_count": 6,
   "metadata": {
    "collapsed": false
   },
   "outputs": [
    {
     "name": "stdout",
     "output_type": "stream",
     "text": [
      ">> Took  0.0018s to make Tets\n",
      ">> Took  2.0156s to make graph\n",
      "340.0 0.138648388468\n",
      "1 2 0.235702260396\n",
      ">> Took  0.0013s for greedy algorithm\n"
     ]
    }
   ],
   "source": [
    "N = 20\n",
    "L = 1\n",
    "vx = np.array([L,0,0])\n",
    "vy = np.array([0,L,0])\n",
    "vz = np.array([0,0,L])\n",
    "tets = []\n",
    "t0 = time()\n",
    "for i in range(N):\n",
    "    center = uniform(0, L, 3)\n",
    "    theta = uniform(0, 2*np.pi)\n",
    "    phi = uniform(0, 2*np.pi)\n",
    "    psi = uniform(9, 2*np.pi)\n",
    "    tets.append(Tet(center, theta, phi, psi))\n",
    "print(\">> Took {:7.4f}s to make Tets\".format(time()-t0))\n",
    "\n",
    "t0 = time()\n",
    "g = igraph.Graph()\n",
    "g.add_vertices(N)\n",
    "for i in range(N):\n",
    "    for j in range(i+1,N):\n",
    "        for s in tets[j].get_symetry(vx, vy, vz):\n",
    "            if tets[i].collision(s):\n",
    "                g.add_edge(i,j)\n",
    "                continue\n",
    "adjacency = np.array(g.get_adjacency()._get_data())\n",
    "print(\">> Took {:7.4f}s to make graph\".format(time()-t0))\n",
    "\n",
    "col = np.sum(adjacency)/2\n",
    "print(col, N*N/col /(6*np.sqrt(2)) / L**3)\n",
    "\n",
    "t0 = time()\n",
    "num_packed = greedy1(adjacency)\n",
    "packing_ratio = num_packed / (6*np.sqrt(2)) / L**3\n",
    "print(L, num_packed, packing_ratio)\n",
    "print(\">> Took {:7.4f}s for greedy algorithm\".format(time()-t0))\n",
    "\n",
    "t0 = time()\n",
    "num_packed = g.independence_number()\n",
    "packing_ratio = num_packed / (6*np.sqrt(2)) / L**3\n",
    "print(L, num_packed, packing_ratio)\n",
    "print(\">> Took {:7.4f}s to compute independence number\".format(time()-t0))"
   ]
  },
  {
   "cell_type": "code",
   "execution_count": 7,
   "metadata": {
    "collapsed": false
   },
   "outputs": [
    {
     "name": "stdout",
     "output_type": "stream",
     "text": [
      "(0, 18)\n",
      ">> Took  0.0004s to return independent set\n"
     ]
    }
   ],
   "source": [
    "t0 = time()\n",
    "largest_independent_set = g.largest_independent_vertex_sets()[0]\n",
    "print(largest_independent_set)\n",
    "print(\">> Took {:7.4f}s to return independent set\".format(time()-t0))"
   ]
  },
  {
   "cell_type": "code",
   "execution_count": 8,
   "metadata": {
    "collapsed": false
   },
   "outputs": [
    {
     "data": {
      "image/png": "[encoded data removed]",
      "text/plain": [
       "<matplotlib.figure.Figure at 0x2b5c2ec3dda0>"
      ]
     },
     "metadata": {},
     "output_type": "display_data"
    }
   ],
   "source": [
    "import scipy as sp\n",
    "ax = a3.Axes3D(plt.figure(10))\n",
    "for i in largest_independent_set:\n",
    "    for x,y,z in [(0,1,2), (0,1,3), (0,2,3), (1,2,3)]:\n",
    "        verts = [tuple(tets[i].verts[x]), tuple(tets[i].verts[y]), tuple(tets[i].verts[z])]\n",
    "        tri = a3.art3d.Poly3DCollection([verts], alpha=0.2)\n",
    "        tri.set_edgecolor('k')\n",
    "        ax.add_collection3d(tri)\n",
    "ax.set_xlim(0,L)\n",
    "ax.set_ylim(0,L)\n",
    "ax.set_zlim(0,L)\n",
    "plt.show()"
   ]
  }
 ],
 "metadata": {
  "kernelspec": {
   "display_name": "Python 3",
   "language": "python",
   "name": "python3"
  },
  "language_info": {
   "codemirror_mode": {
    "name": "ipython",
    "version": 3
   },
   "file_extension": ".py",
   "mimetype": "text/x-python",
   "name": "python",
   "nbconvert_exporter": "python",
   "pygments_lexer": "ipython3",
   "version": "3.4.4"
  }
 },
 "nbformat": 4,
 "nbformat_minor": 0
}
